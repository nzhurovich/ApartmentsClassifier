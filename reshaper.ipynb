{
 "cells": [
  {
   "cell_type": "code",
   "execution_count": 86,
   "metadata": {},
   "outputs": [],
   "source": [
    "import os\n",
    "import pandas as pd\n",
    "import numpy as np\n",
    "from shutil import copyfile, copy\n",
    "from pigeonXT import annotate\n",
    "from IPython.display import display, Image\n",
    "import PIL"
   ]
  },
  {
   "cell_type": "code",
   "execution_count": 6,
   "metadata": {
    "tags": []
   },
   "outputs": [],
   "source": [
    "curdir = r'C:\\Users\\Администратор\\Documents\\Zorka\\Finance 3'\n",
    "\n",
    "os.chdir(curdir+r'\\TrainTestSplit')\n",
    "\n",
    "try: os.mkdir('test')\n",
    "except: pass\n",
    "try: os.mkdir('train')\n",
    "except: pass\n",
    "\n",
    "def go_to_images(): os.chdir(curdir+r'\\images')\n",
    "\n",
    "go_to_images()\n",
    "\n",
    "for dir in os.listdir():\n",
    "    try:\n",
    "        os.chdir('./'+str(dir))\n",
    "        for img in os.listdir(): copyfile(os.getcwd() + r'\\{}'.format(img), r'C:\\Users\\Администратор\\Documents\\Zorka\\Finance 3\\TrainTestSplit\\{}'.format(img))\n",
    "    except: pass\n",
    "    go_to_images()\n",
    "\n",
    "    \n",
    "os.chdir(curdir+'/TrainTestSplit')"
   ]
  },
  {
   "cell_type": "code",
   "execution_count": 11,
   "metadata": {
    "tags": []
   },
   "outputs": [
    {
     "output_type": "execute_result",
     "data": {
      "text/plain": [
       "1780"
      ]
     },
     "metadata": {},
     "execution_count": 11
    }
   ],
   "source": [
    "#Drop Duplicates\n",
    "from PIL import Image\n",
    "\n",
    "imgs = os.listdir()[:-2]\n",
    "im_means = []\n",
    "counter = 0\n",
    "for img in imgs:\n",
    "    image = PIL.Image.open(img, mode='r')\n",
    "    test = np.asarray(image).mean().round(4)\n",
    "    im_means.append(test)\n",
    "\n",
    "\n",
    "duplicates = pd.DataFrame(zip(imgs, im_means), \n",
    "                          columns=['image', 'average'])\n",
    "duplicates = duplicates[duplicates.average.duplicated()].image.tolist()\n",
    "\n",
    "for img in os.listdir()[:-2]:\n",
    "    if img not in duplicates:\n",
    "        os.remove(img)\n",
    "\n",
    "len(os.listdir())"
   ]
  },
  {
   "cell_type": "code",
   "execution_count": 14,
   "metadata": {},
   "outputs": [],
   "source": [
    " "
   ]
  },
  {
   "cell_type": "code",
   "execution_count": 15,
   "metadata": {
    "scrolled": false
   },
   "outputs": [
    {
     "output_type": "display_data",
     "data": {
      "text/plain": "HTML(value='0 of 1780 Examples annotated, Current Position: 0 ')",
      "application/vnd.jupyter.widget-view+json": {
       "version_major": 2,
       "version_minor": 0,
       "model_id": "a9de3d3da9b44e6e85e59d1f6fe28101"
      }
     },
     "metadata": {}
    },
    {
     "output_type": "display_data",
     "data": {
      "text/plain": "HBox(children=(Button(description='Good', style=ButtonStyle()), Button(description='Bad', style=ButtonStyle())…",
      "application/vnd.jupyter.widget-view+json": {
       "version_major": 2,
       "version_minor": 0,
       "model_id": "651bd436e05b41ca96ece1e818094259"
      }
     },
     "metadata": {}
    },
    {
     "output_type": "display_data",
     "data": {
      "text/plain": "Output()",
      "application/vnd.jupyter.widget-view+json": {
       "version_major": 2,
       "version_minor": 0,
       "model_id": "412c68eec48f4724ab8f36f76b5f19ed"
      }
     },
     "metadata": {}
    },
    {
     "output_type": "execute_result",
     "data": {
      "text/plain": [
       "Empty DataFrame\n",
       "Columns: []\n",
       "Index: []"
      ],
      "text/html": "<div>\n<style scoped>\n    .dataframe tbody tr th:only-of-type {\n        vertical-align: middle;\n    }\n\n    .dataframe tbody tr th {\n        vertical-align: top;\n    }\n\n    .dataframe thead th {\n        text-align: right;\n    }\n</style>\n<table border=\"1\" class=\"dataframe\">\n  <thead>\n    <tr style=\"text-align: right;\">\n      <th></th>\n    </tr>\n  </thead>\n  <tbody>\n  </tbody>\n</table>\n</div>"
     },
     "metadata": {},
     "execution_count": 15
    }
   ],
   "source": [
    "from IPython.display import display, Image\n",
    "\n",
    "annotations = annotate(os.listdir(), \n",
    "                       options=['Good', 'Bad', 'Junk'],\n",
    "                       display_fn=lambda filename: display(Image(filename))\n",
    "                      )\n",
    "\n",
    "pd.DataFrame(annotations)"
   ]
  },
  {
   "cell_type": "code",
   "execution_count": 19,
   "metadata": {
    "scrolled": true
   },
   "outputs": [
    {
     "output_type": "execute_result",
     "data": {
      "text/plain": [
       "Empty DataFrame\n",
       "Columns: [img, label]\n",
       "Index: []"
      ],
      "text/html": "<div>\n<style scoped>\n    .dataframe tbody tr th:only-of-type {\n        vertical-align: middle;\n    }\n\n    .dataframe tbody tr th {\n        vertical-align: top;\n    }\n\n    .dataframe thead th {\n        text-align: right;\n    }\n</style>\n<table border=\"1\" class=\"dataframe\">\n  <thead>\n    <tr style=\"text-align: right;\">\n      <th></th>\n      <th>img</th>\n      <th>label</th>\n    </tr>\n  </thead>\n  <tbody>\n  </tbody>\n</table>\n</div>"
     },
     "metadata": {},
     "execution_count": 19
    }
   ],
   "source": [
    "\n",
    "pd.DataFrame(annotations, columns=['img', 'label'])"
   ]
  },
  {
   "cell_type": "code",
   "execution_count": 70,
   "metadata": {},
   "outputs": [
    {
     "data": {
      "text/plain": [
       "(3562, 3562)"
      ]
     },
     "execution_count": 70,
     "metadata": {},
     "output_type": "execute_result"
    }
   ],
   "source": [
    "len(imgs), len(im_means)"
   ]
  },
  {
   "cell_type": "code",
   "execution_count": 24,
   "metadata": {},
   "outputs": [
    {
     "output_type": "execute_result",
     "data": {
      "text/plain": [
       "Empty DataFrame\n",
       "Columns: [a, b]\n",
       "Index: []"
      ],
      "text/html": "<div>\n<style scoped>\n    .dataframe tbody tr th:only-of-type {\n        vertical-align: middle;\n    }\n\n    .dataframe tbody tr th {\n        vertical-align: top;\n    }\n\n    .dataframe thead th {\n        text-align: right;\n    }\n</style>\n<table border=\"1\" class=\"dataframe\">\n  <thead>\n    <tr style=\"text-align: right;\">\n      <th></th>\n      <th>a</th>\n      <th>b</th>\n    </tr>\n  </thead>\n  <tbody>\n  </tbody>\n</table>\n</div>"
     },
     "metadata": {},
     "execution_count": 24
    }
   ],
   "source": [
    "pd.DataFrame(annotations, columns=['a', 'b'])"
   ]
  },
  {
   "cell_type": "code",
   "execution_count": 26,
   "metadata": {
    "scrolled": false
   },
   "outputs": [],
   "source": [
    "anno = annotations.copy()"
   ]
  },
  {
   "cell_type": "code",
   "execution_count": 31,
   "metadata": {},
   "outputs": [
    {
     "output_type": "execute_result",
     "data": {
      "text/plain": [
       "'Bad'"
      ]
     },
     "metadata": {},
     "execution_count": 31
    }
   ],
   "source": [
    "anno.pop('train')"
   ]
  },
  {
   "cell_type": "code",
   "execution_count": 95,
   "metadata": {},
   "outputs": [
    {
     "output_type": "execute_result",
     "data": {
      "text/plain": [
       "              image label\n",
       "0  102560975_20.png  Junk\n",
       "1  102560975_21.png  Junk\n",
       "2  102560975_27.png   Bad\n",
       "3  102560975_28.png   Bad\n",
       "4  104480747_18.png  Good"
      ],
      "text/html": "<div>\n<style scoped>\n    .dataframe tbody tr th:only-of-type {\n        vertical-align: middle;\n    }\n\n    .dataframe tbody tr th {\n        vertical-align: top;\n    }\n\n    .dataframe thead th {\n        text-align: right;\n    }\n</style>\n<table border=\"1\" class=\"dataframe\">\n  <thead>\n    <tr style=\"text-align: right;\">\n      <th></th>\n      <th>image</th>\n      <th>label</th>\n    </tr>\n  </thead>\n  <tbody>\n    <tr>\n      <th>0</th>\n      <td>102560975_20.png</td>\n      <td>Junk</td>\n    </tr>\n    <tr>\n      <th>1</th>\n      <td>102560975_21.png</td>\n      <td>Junk</td>\n    </tr>\n    <tr>\n      <th>2</th>\n      <td>102560975_27.png</td>\n      <td>Bad</td>\n    </tr>\n    <tr>\n      <th>3</th>\n      <td>102560975_28.png</td>\n      <td>Bad</td>\n    </tr>\n    <tr>\n      <th>4</th>\n      <td>104480747_18.png</td>\n      <td>Good</td>\n    </tr>\n  </tbody>\n</table>\n</div>"
     },
     "metadata": {},
     "execution_count": 95
    }
   ],
   "source": [
    "labels = pd.DataFrame(anno, index=[x for x in range(len(anno))])\n",
    "labels = labels.T\n",
    "labels['image'] = labels.index\n",
    "labels.index = [x for x in range(len(anno))]\n",
    "labels = labels[['image', 0]]\n",
    "labels.columns=['image', 'label']\n",
    "labels.head()"
   ]
  },
  {
   "cell_type": "code",
   "execution_count": 88,
   "metadata": {},
   "outputs": [],
   "source": [
    " os.chdir(curdir+'/kaggle_interior_photo')\n",
    " designy = os.listdir()[:labels.label.value_counts()['Bad'] - labels.label.value_counts()['Good'] + 1]\n",
    "\n",
    " for img in designy:\n",
    "     copy(curdir+r'\\kaggle_interior_photo\\{}'.format(img), curdir+r'\\TrainTestSplit')\n",
    "\n",
    "os.chdir(curdir+r'\\TrainTestSplit')"
   ]
  },
  {
   "cell_type": "code",
   "execution_count": 82,
   "metadata": {},
   "outputs": [],
   "source": [
    " "
   ]
  },
  {
   "cell_type": "code",
   "execution_count": 89,
   "metadata": {},
   "outputs": [
    {
     "output_type": "execute_result",
     "data": {
      "text/plain": [
       "          image label\n",
       "0  00000000.jpg  Good\n",
       "1  00000001.jpg  Good\n",
       "2  00000002.jpg  Good\n",
       "3  00000003.jpg  Good\n",
       "4  00000004.jpg  Good"
      ],
      "text/html": "<div>\n<style scoped>\n    .dataframe tbody tr th:only-of-type {\n        vertical-align: middle;\n    }\n\n    .dataframe tbody tr th {\n        vertical-align: top;\n    }\n\n    .dataframe thead th {\n        text-align: right;\n    }\n</style>\n<table border=\"1\" class=\"dataframe\">\n  <thead>\n    <tr style=\"text-align: right;\">\n      <th></th>\n      <th>image</th>\n      <th>label</th>\n    </tr>\n  </thead>\n  <tbody>\n    <tr>\n      <th>0</th>\n      <td>00000000.jpg</td>\n      <td>Good</td>\n    </tr>\n    <tr>\n      <th>1</th>\n      <td>00000001.jpg</td>\n      <td>Good</td>\n    </tr>\n    <tr>\n      <th>2</th>\n      <td>00000002.jpg</td>\n      <td>Good</td>\n    </tr>\n    <tr>\n      <th>3</th>\n      <td>00000003.jpg</td>\n      <td>Good</td>\n    </tr>\n    <tr>\n      <th>4</th>\n      <td>00000004.jpg</td>\n      <td>Good</td>\n    </tr>\n  </tbody>\n</table>\n</div>"
     },
     "metadata": {},
     "execution_count": 89
    }
   ],
   "source": [
    "designy = pd.DataFrame(list(zip(designy, ['Good' for i in range(len(designy))])), columns=['image', 'label'])\n",
    "\n",
    "designy.head()"
   ]
  },
  {
   "cell_type": "code",
   "execution_count": 93,
   "metadata": {},
   "outputs": [],
   "source": [
    "pd.concat([labels, designy]).to_csv('labels.csv')"
   ]
  },
  {
   "cell_type": "code",
   "execution_count": null,
   "metadata": {},
   "outputs": [],
   "source": []
  }
 ],
 "metadata": {
  "kernelspec": {
   "display_name": "Python 3",
   "language": "python",
   "name": "python3"
  },
  "language_info": {
   "codemirror_mode": {
    "name": "ipython",
    "version": 3
   },
   "file_extension": ".py",
   "mimetype": "text/x-python",
   "name": "python",
   "nbconvert_exporter": "python",
   "pygments_lexer": "ipython3",
   "version": "3.8.5-final"
  }
 },
 "nbformat": 4,
 "nbformat_minor": 2
}